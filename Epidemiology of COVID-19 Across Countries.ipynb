{
 "cells": [
  {
   "cell_type": "markdown",
   "metadata": {},
   "source": [
    "### Imports"
   ]
  },
  {
   "cell_type": "code",
   "execution_count": 1,
   "metadata": {},
   "outputs": [],
   "source": [
    "import numpy as np\n",
    "import pandas as pd\n",
    "import seaborn\n",
    "import matplotlib.pyplot as plt\n",
    "from collections import defaultdict"
   ]
  },
  {
   "cell_type": "markdown",
   "metadata": {},
   "source": [
    "### Parameters"
   ]
  },
  {
   "cell_type": "code",
   "execution_count": 2,
   "metadata": {},
   "outputs": [],
   "source": [
    "UPDATED_DATE = '4/21/20'"
   ]
  },
  {
   "cell_type": "markdown",
   "metadata": {},
   "source": [
    "# Data Selection"
   ]
  },
  {
   "cell_type": "markdown",
   "metadata": {},
   "source": [
    "### Import Datasets"
   ]
  },
  {
   "cell_type": "code",
   "execution_count": 3,
   "metadata": {},
   "outputs": [],
   "source": [
    "cases = pd.read_csv('https://raw.githubusercontent.com/YohanJhaveri/Data-Mining-Project/master/time_series_global_confirmed.csv')\n",
    "deaths = pd.read_csv('https://raw.githubusercontent.com/YohanJhaveri/Data-Mining-Project/master/time_series_global_deaths.csv')\n",
    "\n",
    "gdp = pd.read_csv('https://raw.githubusercontent.com/YohanJhaveri/Data-Mining-Project/master/total_GDP(PPP).csv')\n",
    "\n",
    "population = pd.read_csv('https://raw.githubusercontent.com/YohanJhaveri/Data-Mining-Project/master/population.csv')\n",
    "population_density = pd.read_csv('https://raw.githubusercontent.com/YohanJhaveri/Data-Mining-Project/master/population_density%20(per%20sq%20km).csv')\n",
    "population_over_60_years = pd.read_csv('https://raw.githubusercontent.com/YohanJhaveri/Data-Mining-Project/master/population_over_60%20(%25%20of%20population).csv')\n",
    "\n",
    "urban_population = pd.read_csv('https://raw.githubusercontent.com/YohanJhaveri/Data-Mining-Project/master/urban_population(%25).csv')\n",
    "rural_population = pd.read_csv('https://raw.githubusercontent.com/YohanJhaveri/Data-Mining-Project/master/rural_population(%25).csv')\n",
    "\n",
    "median_age = pd.read_csv('https://raw.githubusercontent.com/YohanJhaveri/Data-Mining-Project/master/median_age.csv')\n",
    "life_expectancy = pd.read_csv('https://raw.githubusercontent.com/YohanJhaveri/Data-Mining-Project/master/life_expectancy.csv')\n",
    "smokers = pd.read_csv('https://raw.githubusercontent.com/YohanJhaveri/Data-Mining-Project/master/smoking(%25).csv')\n",
    "\n",
    "hospital_beds_per_1000 = pd.read_csv('https://raw.githubusercontent.com/YohanJhaveri/Data-Mining-Project/master/hospital_beds_per_1000.csv')\n",
    "health_expenditure_per_capita = pd.read_csv('https://raw.githubusercontent.com/YohanJhaveri/Data-Mining-Project/master/total_health_spending_per_capita(PPP).csv')\n",
    "access_to_sanitation_facilities = pd.read_csv('https://raw.githubusercontent.com/YohanJhaveri/Data-Mining-Project/master/total_basic_sanitation_facilities%20(%25%20of%20population).csv')\n",
    "\n",
    "measures = pd.read_csv('https://raw.githubusercontent.com/YohanJhaveri/Data-Mining-Project/master/measures.csv')\n"
   ]
  },
  {
   "cell_type": "markdown",
   "metadata": {},
   "source": [
    "### Countries Dataset"
   ]
  },
  {
   "cell_type": "code",
   "execution_count": 4,
   "metadata": {},
   "outputs": [],
   "source": [
    "countries = pd.DataFrame()"
   ]
  },
  {
   "cell_type": "markdown",
   "metadata": {},
   "source": [
    "### Grouping COVID-19 Data by Country "
   ]
  },
  {
   "cell_type": "code",
   "execution_count": 5,
   "metadata": {},
   "outputs": [],
   "source": [
    "def group(df):\n",
    "    df = df.drop(columns=['Lat','Long']) # removing redundant attributes like latitude and longitude\n",
    "    df = pd.DataFrame(df.groupby(by = 'Country/Region').sum()) # grouping data by Country / Region to make the dataset consistent\n",
    "    return df\n",
    "\n",
    "cases = group(cases)\n",
    "deaths = group(deaths)"
   ]
  },
  {
   "cell_type": "markdown",
   "metadata": {},
   "source": [
    "### Adding COVID-19 Data"
   ]
  },
  {
   "cell_type": "code",
   "execution_count": 6,
   "metadata": {},
   "outputs": [],
   "source": [
    "countries['Cases'] = cases[UPDATED_DATE]\n",
    "countries['Deaths'] = deaths[UPDATED_DATE]"
   ]
  },
  {
   "cell_type": "markdown",
   "metadata": {},
   "source": [
    "### Adding Demographic Data "
   ]
  },
  {
   "cell_type": "code",
   "execution_count": 7,
   "metadata": {
    "scrolled": false
   },
   "outputs": [],
   "source": [
    "def combine_data(df):\n",
    "    # collects most recent data of each country, starting at 2020\n",
    "    # if 2020 data is not available, checks 2019 data and so on until data is found\n",
    "    df.index = df['country']\n",
    "    cols = list(reversed(df.columns))\n",
    "    while int(cols[0]) > 2020: cols.pop(0)\n",
    "\n",
    "    data = {}\n",
    "    \n",
    "    for i in df.index:\n",
    "        for j in cols:\n",
    "            if not np.isnan(df.loc[i][j]):\n",
    "                data[i] = df.loc[i][j]\n",
    "                break\n",
    "    \n",
    "    # dictionary that maps the naming convention of countries from the Johns Hopkins COVID-19 data to the Gapminder data \n",
    "    # aids in combining both datasets effectively\n",
    "    \n",
    "    replace = {\n",
    "        'Cabo Verde': 'Cape Verde',\n",
    "        'Congo (Brazzaville)': 'Congo, Rep.',\n",
    "        'Congo (Kinshasa)': 'Congo, Dem. Rep.',\n",
    "        'Czechia': 'Czech Republic',\n",
    "        'Korea, South': 'South Korea',\n",
    "        'Laos': 'Lao',\n",
    "        'Saint Kitts and Nevis': 'St. Kitts and Nevis',\n",
    "        'Saint Lucia': 'St. Lucia',\n",
    "        'Saint Vincent and the Grenadines': 'St. Vincent and the Grenadines',\n",
    "        'US': 'United States',\n",
    "        'West Bank and Gaza': 'Palestine',\n",
    "    }\n",
    "    \n",
    "    # adds data to a list in order of Johns Hopkins COVID-19 country indexes so that the data is aligned when it is added as an attribute\n",
    "    \n",
    "    values = []\n",
    "    for i in countries.index:\n",
    "        if i in replace: i = replace[i]\n",
    "            \n",
    "        if data.get(i, None) != None:\n",
    "            values.append(data[i])\n",
    "        else:\n",
    "            values.append(None)\n",
    "    \n",
    "    return values\n",
    "\n",
    "countries['GDP'] = combine_data(gdp)\n",
    "countries['Population'] = combine_data(population)\n",
    "countries['Population Density'] = combine_data(population_density)\n",
    "countries['Urban Population'] = combine_data(urban_population)\n",
    "countries['Rural Population'] = combine_data(rural_population)\n",
    "countries['Life Expectancy'] = combine_data(life_expectancy)\n",
    "countries['Median Age'] = combine_data(median_age)\n",
    "countries['Smokers'] = combine_data(smokers)\n",
    "countries['Population over 60 years'] = combine_data(population_over_60_years)\n",
    "countries['Hospital Beds/1000'] = combine_data(hospital_beds_per_1000)\n",
    "countries['Healthcare Expenditure per capita'] = combine_data(health_expenditure_per_capita)\n",
    "countries['Access to Sanitation Facilities'] = combine_data(access_to_sanitation_facilities)"
   ]
  },
  {
   "cell_type": "markdown",
   "metadata": {},
   "source": [
    "## Adding Safety Measures Data"
   ]
  },
  {
   "cell_type": "code",
   "execution_count": 8,
   "metadata": {},
   "outputs": [],
   "source": [
    "measures = measures[['COUNTRY', 'MEASURE']]\n",
    "\n",
    "for i in measures.index:\n",
    "    measures.loc[i]['MEASURE'] = measures.loc[i]['MEASURE'].replace('\\xa0','')\n",
    "\n",
    "measures = measures.groupby(by=\"COUNTRY\").agg(','.join)\n",
    "\n",
    "data = {}\n",
    "for country in measures.index:\n",
    "    data[country] = ','.join(list(set( measures.loc[country]['MEASURE'].split(','))))\n",
    "        \n",
    "# dictionary that maps the naming convention of countries from the Johns Hopkins COVID-19 to the The Humanitarian Data Exchange data\n",
    "# aids in combining both datasets effectively\n",
    "\n",
    "replace = {\n",
    "    'Brunei': 'Brunei Darussalam',\n",
    "    'Congo (Brazzaville)': 'Congo',\n",
    "    'Congo (Kinshasa)': 'Congo DR',\n",
    "    'Czechia': 'Czech republic',\n",
    "    'Vietnam': 'Viet Nam',\n",
    "    'Moldova': 'Moldova Republic Of',\n",
    "    \"Cote d'Ivoire\": \"Côte d'Ivoire\",\n",
    "    'Korea, South': 'Korea DPR',\n",
    "    'Laos': 'Lao PDR',\n",
    "    'North Macedonia': 'North Macedonia Republic Of',\n",
    "    'Russia': 'Russian Federation',\n",
    "    'US': 'United States of America',\n",
    "    'West Bank and Gaza': 'Palestine',\n",
    "}\n",
    "\n",
    "# adds data to a list in order of Johns Hopkins COVID-19 country indexes so that the data is aligned when it is added as an attribute\n",
    "\n",
    "values = []\n",
    "for i in countries.index:\n",
    "    if i in replace: i = replace[i]\n",
    "\n",
    "    if data.get(i, None) != None:\n",
    "        values.append(data[i])\n",
    "    else:\n",
    "        values.append(None)\n",
    "\n",
    "countries['Measures'] = values"
   ]
  },
  {
   "cell_type": "markdown",
   "metadata": {},
   "source": [
    "# Data Extraction"
   ]
  },
  {
   "cell_type": "code",
   "execution_count": 9,
   "metadata": {},
   "outputs": [
    {
     "name": "stderr",
     "output_type": "stream",
     "text": [
      "/Library/Frameworks/Python.framework/Versions/3.7/lib/python3.7/site-packages/ipykernel_launcher.py:8: RuntimeWarning: divide by zero encountered in long_scalars\n",
      "  \n"
     ]
    }
   ],
   "source": [
    "def find_overall_growth_rate_by_day(df):\n",
    "    old_df = df\n",
    "    new_df = {}\n",
    "\n",
    "    for i, n in enumerate(old_df.index):\n",
    "        t = np.count_nonzero(old_df.iloc[i])\n",
    "        # using the compound interest formula to calculate daily growth\n",
    "        if t:    new_df[n] = (old_df.iloc[i][-1] / old_df.iloc[i][-t])**(1/t) - 1 \n",
    "        # if there has been no growth, set growth rate to zero\n",
    "        else:    new_df[n] = 0\n",
    "    \n",
    "    # multiply result by 100 to convert to percent\n",
    "    return pd.Series(new_df) * 100\n",
    "        \n",
    "countries['GDP/Capita'] = countries['GDP'] / countries['Population']\n",
    "countries['Cases/1000'] = (countries['Cases'] * 1000) / countries['Population']\n",
    "countries['Deaths/1000'] = (countries['Deaths'] * 1000) / countries['Population']\n",
    "countries['Mortality'] = np.divide(countries['Deaths'], countries['Cases']) * 100\n",
    "countries['Cases Daily Growth Rate'] = find_overall_growth_rate_by_day(cases)\n",
    "countries['Deaths Daily Growth Rate'] = find_overall_growth_rate_by_day(deaths)"
   ]
  },
  {
   "cell_type": "markdown",
   "metadata": {},
   "source": [
    "# Data Pre-processing"
   ]
  },
  {
   "cell_type": "markdown",
   "metadata": {},
   "source": [
    "### Manual Pre-processing"
   ]
  },
  {
   "cell_type": "code",
   "execution_count": 10,
   "metadata": {},
   "outputs": [],
   "source": [
    "# Deleting columns that do not pertain to countries and instead correspond to cruise ships\n",
    "countries = countries.drop(index=['Diamond Princess', 'MS Zaandam'])"
   ]
  },
  {
   "cell_type": "markdown",
   "metadata": {},
   "source": [
    "### Correcting Zero Division Errors"
   ]
  },
  {
   "cell_type": "code",
   "execution_count": 11,
   "metadata": {},
   "outputs": [],
   "source": [
    "# Zero division errors could have occured while calculating the daily growth rate\n",
    "countries = countries.apply(lambda x: x.replace(float('inf'), 0))"
   ]
  },
  {
   "cell_type": "markdown",
   "metadata": {},
   "source": [
    "### Imputing Missing Data"
   ]
  },
  {
   "cell_type": "code",
   "execution_count": 12,
   "metadata": {},
   "outputs": [],
   "source": [
    "# nan values are imputed with attribute mean using SimpleImputer\n",
    "\n",
    "from sklearn.impute import SimpleImputer\n",
    "measures = countries['Measures']\n",
    "countries = countries.drop(columns=['Measures'])\n",
    "\n",
    "# initializing the imputer\n",
    "impute = SimpleImputer(missing_values=np.nan, strategy='mean')\n",
    "\n",
    "# imputing the data\n",
    "imputed_countries = pd.DataFrame(impute.fit_transform(countries))\n",
    "\n",
    "# adding the same index and column names to returned numpy array \n",
    "imputed_countries.index = countries.index\n",
    "imputed_countries.columns = countries.columns\n",
    "countries = imputed_countries\n",
    "countries['Measures'] = measures"
   ]
  },
  {
   "cell_type": "markdown",
   "metadata": {},
   "source": [
    "### Scaling"
   ]
  },
  {
   "cell_type": "code",
   "execution_count": 13,
   "metadata": {},
   "outputs": [],
   "source": [
    "# standard scaling is performed on the data to prevent skewing of the distance metric\n",
    "from sklearn.preprocessing import StandardScaler\n",
    "\n",
    "# initializing the scaler\n",
    "scaler = StandardScaler()\n",
    "\n",
    "# scaling the relative epidimiological data which will be used to form clusters\n",
    "data = scaler.fit_transform(np.array(countries[['Mortality', 'Cases Daily Growth Rate', 'Deaths Daily Growth Rate']]))"
   ]
  },
  {
   "cell_type": "markdown",
   "metadata": {},
   "source": [
    "# Data Mining"
   ]
  },
  {
   "cell_type": "markdown",
   "metadata": {},
   "source": [
    "## Correlation Analysis"
   ]
  },
  {
   "cell_type": "code",
   "execution_count": 15,
   "metadata": {
    "scrolled": true
   },
   "outputs": [
    {
     "data": {
      "image/png": "[encoded data removed]",
      "text/plain": [
       "<Figure size 1008x864 with 2 Axes>"
      ]
     },
     "metadata": {
      "needs_background": "light"
     },
     "output_type": "display_data"
    }
   ],
   "source": [
    "countries_healthcare = countries[['Cases/1000', 'Deaths/1000', 'Mortality', 'Cases Daily Growth Rate', 'Deaths Daily Growth Rate', 'Life Expectancy', 'Smokers', 'Hospital Beds/1000', 'Healthcare Expenditure per capita', 'Access to Sanitation Facilities']]\n",
    "countries_demographics = countries[['Cases/1000', 'Deaths/1000', 'Mortality', 'Cases Daily Growth Rate', 'Deaths Daily Growth Rate', 'GDP/Capita', 'Median Age', 'Population Density', 'Population over 60 years', 'Urban Population']] \n",
    "\n",
    "fig_dims = (14, 12)\n",
    "fig, ax = plt.subplots(figsize=fig_dims)\n",
    "correlation_matrix = np.around(countries_demographics.corr(), 1)\n",
    "seaborn.heatmap(correlation_matrix, annot=True)\n",
    "plt.show()"
   ]
  },
  {
   "cell_type": "markdown",
   "metadata": {},
   "source": [
    "## K-Means "
   ]
  },
  {
   "cell_type": "markdown",
   "metadata": {},
   "source": [
    "### Clustering"
   ]
  },
  {
   "cell_type": "code",
   "execution_count": 16,
   "metadata": {},
   "outputs": [],
   "source": [
    "# Clustering into 3 clusters using epidemiological data \n",
    "from sklearn.cluster import KMeans\n",
    "kmeans = KMeans(n_clusters=3, random_state=0).fit(data)\n",
    "result = kmeans.predict(data)\n",
    "countries['Cluster'] = result"
   ]
  },
  {
   "cell_type": "markdown",
   "metadata": {},
   "source": [
    "### Evaluation"
   ]
  },
  {
   "cell_type": "code",
   "execution_count": 17,
   "metadata": {},
   "outputs": [
    {
     "data": {
      "text/plain": [
       "0.39378031102411104"
      ]
     },
     "execution_count": 17,
     "metadata": {},
     "output_type": "execute_result"
    }
   ],
   "source": [
    "# Using the Silhouette Coefficient to evaluate clustering \n",
    "from sklearn.metrics import silhouette_score\n",
    "silhouette_score(data, result, metric='euclidean')"
   ]
  },
  {
   "cell_type": "markdown",
   "metadata": {},
   "source": [
    "### Visualization"
   ]
  },
  {
   "cell_type": "code",
   "execution_count": 18,
   "metadata": {},
   "outputs": [
    {
     "data": {
      "text/plain": [
       "Index(['Australia', 'Azerbaijan', 'Bahrain', 'Benin', 'Bhutan', 'Botswana',\n",
       "       'Brunei', 'Burma', 'Cabo Verde', 'Cambodia', 'Central African Republic',\n",
       "       'Chad', 'China', 'Congo (Brazzaville)', 'Costa Rica', 'Dominica',\n",
       "       'Equatorial Guinea', 'Eritrea', 'Eswatini', 'Ethiopia', 'Fiji', 'Gabon',\n",
       "       'Georgia', 'Grenada', 'Guatemala', 'Guinea-Bissau', 'Haiti', 'Holy See',\n",
       "       'Iceland', 'Jamaica', 'Japan', 'Jordan', 'Kazakhstan', 'Korea, South',\n",
       "       'Kosovo', 'Laos', 'Lebanon', 'Libya', 'Liechtenstein', 'Madagascar',\n",
       "       'Malaysia', 'Maldives', 'Malta', 'Mauritius', 'Monaco', 'Mongolia',\n",
       "       'Montenegro', 'Mozambique', 'Namibia', 'Nepal', 'Oman',\n",
       "       'Papua New Guinea', 'Paraguay', 'Rwanda', 'Saint Kitts and Nevis',\n",
       "       'Saint Lucia', 'Saint Vincent and the Grenadines',\n",
       "       'Sao Tome and Principe', 'Senegal', 'Seychelles', 'Sierra Leone',\n",
       "       'Singapore', 'Slovakia', 'South Sudan', 'Sri Lanka', 'Taiwan*',\n",
       "       'Thailand', 'Timor-Leste', 'Uganda', 'United Arab Emirates', 'Vietnam',\n",
       "       'West Bank and Gaza', 'Western Sahara', 'Yemen', 'Zambia'],\n",
       "      dtype='object', name='Country/Region')"
      ]
     },
     "execution_count": 18,
     "metadata": {},
     "output_type": "execute_result"
    }
   ],
   "source": [
    "countries[countries['Cluster'] == 0].index"
   ]
  },
  {
   "cell_type": "code",
   "execution_count": 19,
   "metadata": {},
   "outputs": [
    {
     "data": {
      "text/plain": [
       "Index(['Afghanistan', 'Albania', 'Andorra', 'Argentina', 'Armenia', 'Austria',\n",
       "       'Bangladesh', 'Belarus', 'Bolivia', 'Bosnia and Herzegovina', 'Brazil',\n",
       "       'Bulgaria', 'Burkina Faso', 'Cameroon', 'Canada', 'Chile', 'Colombia',\n",
       "       'Congo (Kinshasa)', 'Cote d'Ivoire', 'Croatia', 'Cuba', 'Cyprus',\n",
       "       'Czechia', 'Denmark', 'Djibouti', 'Dominican Republic', 'Ecuador',\n",
       "       'El Salvador', 'Estonia', 'Finland', 'Germany', 'Ghana', 'Greece',\n",
       "       'Guinea', 'India', 'Indonesia', 'Iran', 'Iraq', 'Ireland', 'Israel',\n",
       "       'Kenya', 'Kuwait', 'Kyrgyzstan', 'Latvia', 'Lithuania', 'Luxembourg',\n",
       "       'Mali', 'Mexico', 'Moldova', 'Morocco', 'Netherlands', 'New Zealand',\n",
       "       'Niger', 'Nigeria', 'North Macedonia', 'Norway', 'Pakistan', 'Panama',\n",
       "       'Peru', 'Poland', 'Portugal', 'Qatar', 'Romania', 'Russia',\n",
       "       'Saudi Arabia', 'Serbia', 'Slovenia', 'Somalia', 'South Africa',\n",
       "       'Spain', 'Switzerland', 'Tanzania', 'Tunisia', 'Turkey', 'US',\n",
       "       'Ukraine', 'Uruguay', 'Uzbekistan', 'Venezuela'],\n",
       "      dtype='object', name='Country/Region')"
      ]
     },
     "execution_count": 19,
     "metadata": {},
     "output_type": "execute_result"
    }
   ],
   "source": [
    "countries[countries['Cluster'] == 1].index"
   ]
  },
  {
   "cell_type": "code",
   "execution_count": 20,
   "metadata": {},
   "outputs": [
    {
     "data": {
      "text/plain": [
       "Index(['Algeria', 'Angola', 'Antigua and Barbuda', 'Bahamas', 'Barbados',\n",
       "       'Belgium', 'Belize', 'Burundi', 'Egypt', 'France', 'Gambia', 'Guyana',\n",
       "       'Honduras', 'Hungary', 'Italy', 'Liberia', 'Malawi', 'Mauritania',\n",
       "       'Nicaragua', 'Philippines', 'San Marino', 'Sudan', 'Suriname', 'Sweden',\n",
       "       'Syria', 'Togo', 'Trinidad and Tobago', 'United Kingdom', 'Zimbabwe'],\n",
       "      dtype='object', name='Country/Region')"
      ]
     },
     "execution_count": 20,
     "metadata": {},
     "output_type": "execute_result"
    }
   ],
   "source": [
    "countries[countries['Cluster'] == 2].index"
   ]
  },
  {
   "cell_type": "code",
   "execution_count": 21,
   "metadata": {
    "scrolled": true
   },
   "outputs": [
    {
     "data": {
      "text/html": [
       "<div>\n",
       "<style scoped>\n",
       "    .dataframe tbody tr th:only-of-type {\n",
       "        vertical-align: middle;\n",
       "    }\n",
       "\n",
       "    .dataframe tbody tr th {\n",
       "        vertical-align: top;\n",
       "    }\n",
       "\n",
       "    .dataframe thead th {\n",
       "        text-align: right;\n",
       "    }\n",
       "</style>\n",
       "<table border=\"1\" class=\"dataframe\">\n",
       "  <thead>\n",
       "    <tr style=\"text-align: right;\">\n",
       "      <th></th>\n",
       "      <th>Cases</th>\n",
       "      <th>Deaths</th>\n",
       "      <th>GDP</th>\n",
       "      <th>Population</th>\n",
       "      <th>Population Density</th>\n",
       "      <th>Urban Population</th>\n",
       "      <th>Rural Population</th>\n",
       "      <th>Life Expectancy</th>\n",
       "      <th>Median Age</th>\n",
       "      <th>Smokers</th>\n",
       "      <th>Population over 60 years</th>\n",
       "      <th>Hospital Beds/1000</th>\n",
       "      <th>Healthcare Expenditure per capita</th>\n",
       "      <th>Access to Sanitation Facilities</th>\n",
       "      <th>GDP/Capita</th>\n",
       "      <th>Cases/1000</th>\n",
       "      <th>Deaths/1000</th>\n",
       "      <th>Mortality</th>\n",
       "      <th>Cases Daily Growth Rate</th>\n",
       "      <th>Deaths Daily Growth Rate</th>\n",
       "    </tr>\n",
       "    <tr>\n",
       "      <th>Cluster</th>\n",
       "      <th></th>\n",
       "      <th></th>\n",
       "      <th></th>\n",
       "      <th></th>\n",
       "      <th></th>\n",
       "      <th></th>\n",
       "      <th></th>\n",
       "      <th></th>\n",
       "      <th></th>\n",
       "      <th></th>\n",
       "      <th></th>\n",
       "      <th></th>\n",
       "      <th></th>\n",
       "      <th></th>\n",
       "      <th></th>\n",
       "      <th></th>\n",
       "      <th></th>\n",
       "      <th></th>\n",
       "      <th></th>\n",
       "      <th></th>\n",
       "    </tr>\n",
       "  </thead>\n",
       "  <tbody>\n",
       "    <tr>\n",
       "      <th>0</th>\n",
       "      <td>2080.586667</td>\n",
       "      <td>74.920000</td>\n",
       "      <td>4.260898e+11</td>\n",
       "      <td>3.595049e+07</td>\n",
       "      <td>717.214497</td>\n",
       "      <td>55.275040</td>\n",
       "      <td>44.353347</td>\n",
       "      <td>72.344047</td>\n",
       "      <td>28.183132</td>\n",
       "      <td>20.688816</td>\n",
       "      <td>10.687385</td>\n",
       "      <td>2.824281</td>\n",
       "      <td>788.756698</td>\n",
       "      <td>70.517312</td>\n",
       "      <td>14347.118970</td>\n",
       "      <td>0.454885</td>\n",
       "      <td>0.005376</td>\n",
       "      <td>1.173954</td>\n",
       "      <td>10.097249</td>\n",
       "      <td>3.062723</td>\n",
       "    </tr>\n",
       "    <tr>\n",
       "      <th>1</th>\n",
       "      <td>23516.405063</td>\n",
       "      <td>1256.493671</td>\n",
       "      <td>7.418698e+11</td>\n",
       "      <td>5.808452e+07</td>\n",
       "      <td>122.164488</td>\n",
       "      <td>66.139472</td>\n",
       "      <td>33.568799</td>\n",
       "      <td>75.470131</td>\n",
       "      <td>33.116306</td>\n",
       "      <td>22.560325</td>\n",
       "      <td>16.006844</td>\n",
       "      <td>3.153166</td>\n",
       "      <td>1457.974750</td>\n",
       "      <td>80.968062</td>\n",
       "      <td>19502.817172</td>\n",
       "      <td>0.807432</td>\n",
       "      <td>0.034372</td>\n",
       "      <td>3.601946</td>\n",
       "      <td>16.840045</td>\n",
       "      <td>14.310671</td>\n",
       "    </tr>\n",
       "    <tr>\n",
       "      <th>2</th>\n",
       "      <td>18844.206897</td>\n",
       "      <td>2485.724138</td>\n",
       "      <td>3.484531e+11</td>\n",
       "      <td>2.282668e+07</td>\n",
       "      <td>167.833103</td>\n",
       "      <td>55.610345</td>\n",
       "      <td>44.116207</td>\n",
       "      <td>73.270357</td>\n",
       "      <td>28.696348</td>\n",
       "      <td>19.485023</td>\n",
       "      <td>12.432771</td>\n",
       "      <td>2.406897</td>\n",
       "      <td>1098.917241</td>\n",
       "      <td>73.975862</td>\n",
       "      <td>13625.966683</td>\n",
       "      <td>0.960267</td>\n",
       "      <td>0.103197</td>\n",
       "      <td>11.100623</td>\n",
       "      <td>11.038629</td>\n",
       "      <td>8.893343</td>\n",
       "    </tr>\n",
       "  </tbody>\n",
       "</table>\n",
       "</div>"
      ],
      "text/plain": [
       "                Cases       Deaths           GDP    Population  \\\n",
       "Cluster                                                          \n",
       "0         2080.586667    74.920000  4.260898e+11  3.595049e+07   \n",
       "1        23516.405063  1256.493671  7.418698e+11  5.808452e+07   \n",
       "2        18844.206897  2485.724138  3.484531e+11  2.282668e+07   \n",
       "\n",
       "         Population Density  Urban Population  Rural Population  \\\n",
       "Cluster                                                           \n",
       "0                717.214497         55.275040         44.353347   \n",
       "1                122.164488         66.139472         33.568799   \n",
       "2                167.833103         55.610345         44.116207   \n",
       "\n",
       "         Life Expectancy  Median Age    Smokers  Population over 60 years  \\\n",
       "Cluster                                                                     \n",
       "0              72.344047   28.183132  20.688816                 10.687385   \n",
       "1              75.470131   33.116306  22.560325                 16.006844   \n",
       "2              73.270357   28.696348  19.485023                 12.432771   \n",
       "\n",
       "         Hospital Beds/1000  Healthcare Expenditure per capita  \\\n",
       "Cluster                                                          \n",
       "0                  2.824281                         788.756698   \n",
       "1                  3.153166                        1457.974750   \n",
       "2                  2.406897                        1098.917241   \n",
       "\n",
       "         Access to Sanitation Facilities    GDP/Capita  Cases/1000  \\\n",
       "Cluster                                                              \n",
       "0                              70.517312  14347.118970    0.454885   \n",
       "1                              80.968062  19502.817172    0.807432   \n",
       "2                              73.975862  13625.966683    0.960267   \n",
       "\n",
       "         Deaths/1000  Mortality  Cases Daily Growth Rate  \\\n",
       "Cluster                                                    \n",
       "0           0.005376   1.173954                10.097249   \n",
       "1           0.034372   3.601946                16.840045   \n",
       "2           0.103197  11.100623                11.038629   \n",
       "\n",
       "         Deaths Daily Growth Rate  \n",
       "Cluster                            \n",
       "0                        3.062723  \n",
       "1                       14.310671  \n",
       "2                        8.893343  "
      ]
     },
     "execution_count": 21,
     "metadata": {},
     "output_type": "execute_result"
    }
   ],
   "source": [
    "countries.groupby(by=\"Cluster\").mean()"
   ]
  },
  {
   "cell_type": "markdown",
   "metadata": {},
   "source": [
    "## Apriori"
   ]
  },
  {
   "cell_type": "code",
   "execution_count": 26,
   "metadata": {
    "scrolled": true
   },
   "outputs": [
    {
     "name": "stdout",
     "output_type": "stream",
     "text": [
      "Schools closure (15)\n",
      "\n",
      "International flights suspension (16)\n",
      "\n",
      "Strengthening the public health system (12)\n",
      "\n",
      "Health screenings in airports and border crossings (16)\n",
      "\n",
      "Domestic travel restrictions (12)\n",
      "\n",
      "Border closure (15)\n",
      "\n",
      "Emergency administrative structures activated or established (12)\n",
      "\n",
      "Limit public gatherings (15)\n",
      "\n",
      "Introduction of isolation and quarantine policies (16)\n",
      "\n",
      "General recommendations (12)\n",
      "\n",
      "Visa restrictions (13)\n",
      "\n",
      "Awareness campaigns (12)\n",
      "\n",
      "Public services closure (14)\n",
      "\n",
      "International flights suspension | Health screenings in airports and border crossings (15)\n",
      "\n",
      "International flights suspension | Border closure (13)\n",
      "\n",
      "International flights suspension | Limit public gatherings (14)\n",
      "\n",
      "International flights suspension | Introduction of isolation and quarantine policies (14)\n",
      "\n",
      "Health screenings in airports and border crossings | Border closure (12)\n",
      "\n",
      "Health screenings in airports and border crossings | Limit public gatherings (13)\n",
      "\n",
      "Health screenings in airports and border crossings | Introduction of isolation and quarantine policies (13)\n",
      "\n",
      "Domestic travel restrictions | Limit public gatherings (12)\n",
      "\n",
      "Border closure | Limit public gatherings (13)\n",
      "\n",
      "Border closure | Introduction of isolation and quarantine policies (12)\n",
      "\n",
      "International flights suspension | Schools closure (12)\n",
      "\n",
      "International flights suspension | Border closure | Health screenings in airports and border crossings (12)\n",
      "\n",
      "International flights suspension | Health screenings in airports and border crossings | Limit public gatherings (13)\n",
      "\n",
      "International flights suspension | Introduction of isolation and quarantine policies | Health screenings in airports and border crossings (13)\n",
      "\n",
      "International flights suspension | Schools closure | Health screenings in airports and border crossings (12)\n",
      "\n",
      "International flights suspension | Border closure | Limit public gatherings (12)\n",
      "\n",
      "International flights suspension | Introduction of isolation and quarantine policies | Limit public gatherings (13)\n",
      "\n",
      "International flights suspension | Domestic travel restrictions | Limit public gatherings (12)\n",
      "\n",
      "International flights suspension | Schools closure | Limit public gatherings (12)\n",
      "\n",
      "International flights suspension | Introduction of isolation and quarantine policies | Schools closure (12)\n",
      "\n",
      "Introduction of isolation and quarantine policies | Health screenings in airports and border crossings | Limit public gatherings (12)\n",
      "\n",
      "Border closure | Introduction of isolation and quarantine policies | Limit public gatherings (12)\n",
      "\n",
      "International flights suspension | Introduction of isolation and quarantine policies | Health screenings in airports and border crossings | Limit public gatherings (12)\n",
      "\n",
      "International flights suspension | Schools closure | Introduction of isolation and quarantine policies | Limit public gatherings (12)\n",
      "\n"
     ]
    }
   ],
   "source": [
    "# running apriori to find the best safety measures countries with the slowest daily growth rate of cases have applied\n",
    "\n",
    "def apriori(input, support):\n",
    "\n",
    "    items = {}\n",
    "    freqs = {}\n",
    "\n",
    "    def find_count(itemset):\n",
    "        itemset = [items[i] for i in itemset]\n",
    "        return np.sum(np.prod(data[:, itemset], axis=1))\n",
    "\n",
    "    def delete_keys(n):\n",
    "        keys = list(freqs[n].keys())\n",
    "        for key in keys:\n",
    "            if freqs[n][key] < support:\n",
    "                del freqs[n][key]\n",
    "\n",
    "\n",
    "    transactions = []\n",
    "    dictionary_count = 0\n",
    "\n",
    "    for i in input['Measures']:\n",
    "        if i:\n",
    "            transaction = i.split(',')\n",
    "            transactions.append(transaction)\n",
    "\n",
    "            for item in transaction:\n",
    "                if item not in items:\n",
    "                    items[item] = dictionary_count\n",
    "                    dictionary_count += 1\n",
    "\n",
    "    data = np.zeros((len(transactions), len(items)))\n",
    "\n",
    "    for i, transaction in enumerate(transactions):\n",
    "        for item in transaction:\n",
    "            data[i, items[item]] = 1\n",
    "\n",
    "    freqs[1] = defaultdict(int)\n",
    "    freqs[2] = defaultdict(int)\n",
    "\n",
    "    for transaction in transactions:\n",
    "        n = len(transaction)\n",
    "\n",
    "        for i in range(n):\n",
    "            key = (transaction[i], )\n",
    "            freqs[1][key] += 1\n",
    "\n",
    "            for j in range(i+1, n):\n",
    "                key = (transaction[i], transaction[j])\n",
    "                freqs[2][key] += 1\n",
    "\n",
    "    delete_keys(1)\n",
    "    delete_keys(2)\n",
    "\n",
    "    n = 2\n",
    "    \n",
    "    while len(freqs[n]) > 2:\n",
    "        freqs[n + 1] = {}\n",
    "        keys = list(freqs[n].keys())\n",
    "\n",
    "        for i in range(len(keys)):\n",
    "            for j in range(i + 1, len(keys)):\n",
    "                union = tuple(set(keys[i]).union(set(keys[j])))\n",
    "                if union not in freqs[n + 1] and len(union) == (n + 1):\n",
    "                    freqs[n + 1][union] = find_count(union)\n",
    "\n",
    "        delete_keys(n + 1)\n",
    "        n += 1\n",
    "        \n",
    "    for x in freqs:\n",
    "        for y in freqs[x]:\n",
    "            print(' | '.join([i for i in y]) + ' (' + str(int(freqs[x][y])) + ')\\n')\n",
    "\n",
    "# running apriori with a support of 15 on the safety measures of countries with a daily growth rate of cases at less than 8%\n",
    "apriori(countries[countries['Cases Daily Growth Rate'] < 8][['Measures']], 12)"
   ]
  },
  {
   "cell_type": "code",
   "execution_count": 23,
   "metadata": {},
   "outputs": [],
   "source": [
    "countries.to_csv('./countries.csv')"
   ]
  },
  {
   "cell_type": "code",
   "execution_count": 34,
   "metadata": {
    "scrolled": true
   },
   "outputs": [
    {
     "data": {
      "text/plain": [
       "Text(0, 0.5, 'Cases Daily Growth Rate (%)')"
      ]
     },
     "execution_count": 34,
     "metadata": {},
     "output_type": "execute_result"
    },
    {
     "data": {
      "image/png": "[encoded data removed]",
      "text/plain": [
       "<Figure size 432x288 with 1 Axes>"
      ]
     },
     "metadata": {
      "needs_background": "light"
     },
     "output_type": "display_data"
    }
   ],
   "source": [
    "plt.scatter(countries['Mortality'], countries['Cases Daily Growth Rate'], color=[['red', 'green', 'blue'][i] for i in countries['Cluster']])\n",
    "plt.title('Mortality vs Cases Daily Growth Rate by Cluster')\n",
    "plt.xlabel('Mortality (%)')\n",
    "plt.ylabel('Cases Daily Growth Rate (%)')"
   ]
  }
 ],
 "metadata": {
  "kernelspec": {
   "display_name": "Python 3",
   "language": "python",
   "name": "python3"
  },
  "language_info": {
   "codemirror_mode": {
    "name": "ipython",
    "version": 3
   },
   "file_extension": ".py",
   "mimetype": "text/x-python",
   "name": "python",
   "nbconvert_exporter": "python",
   "pygments_lexer": "ipython3",
   "version": "3.7.2"
  }
 },
 "nbformat": 4,
 "nbformat_minor": 2
}
